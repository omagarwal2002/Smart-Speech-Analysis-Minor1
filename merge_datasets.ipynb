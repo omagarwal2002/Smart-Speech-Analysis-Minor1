{
 "cells": [
  {
   "cell_type": "code",
   "execution_count": 1,
   "metadata": {},
   "outputs": [
    {
     "name": "stderr",
     "output_type": "stream",
     "text": [
      "f:\\Softwares\\Anaconda\\lib\\site-packages\\paramiko\\transport.py:219: CryptographyDeprecationWarning: Blowfish has been deprecated\n",
      "  \"class\": algorithms.Blowfish,\n"
     ]
    }
   ],
   "source": [
    "import librosa\n",
    "import os\n",
    "import numpy as np\n",
    "import pandas as pd\n",
    "from tqdm import tqdm\n",
    "from scipy.io import wavfile\n",
    "import glob"
   ]
  },
  {
   "cell_type": "code",
   "execution_count": 2,
   "metadata": {},
   "outputs": [],
   "source": [
    "def envelope(y , rate, threshold):\n",
    "    mask=[]\n",
    "    y=pd.Series(y).apply(np.abs)\n",
    "    y_mean = y.rolling(window=int(rate/10) ,  min_periods=1 , center = True).mean()\n",
    "    for mean in y_mean:\n",
    "        if mean>threshold:\n",
    "            mask.append(True)\n",
    "        else:\n",
    "            mask.append(False)\n",
    "            \n",
    "    return mask"
   ]
  },
  {
   "cell_type": "code",
   "execution_count": 3,
   "metadata": {},
   "outputs": [],
   "source": [
    "#Emotions in the RAVDESS dataset to be classified Audio Files based on . \n",
    "emotions={\n",
    "  '01':'neutral',\n",
    "  '02':'calm',\n",
    "  '03':'happy',\n",
    "  '04':'sad',\n",
    "  '05':'angry',\n",
    "  '06':'fearful',\n",
    "  '07':'disgust',\n",
    "  '08':'surprised'\n",
    "}\n",
    "#These are the emotions User wants to observe more :\n",
    "observed_emotions=['sad', 'happy', 'fear', 'angry', 'disgust', 'neutral']\n",
    "observed_emotions2=['SAD', 'HAP', 'FEA', 'ANG', 'DIS', 'NEU']"
   ]
  },
  {
   "cell_type": "code",
   "execution_count": 15,
   "metadata": {},
   "outputs": [],
   "source": [
    "#Load the data and extract features for each sound file\n",
    "def load_data_from_ravdess():\n",
    "\n",
    "    for file in tqdm(glob.glob(r'F:\\VS Code\\Minor1_midsem\\speech-emotion-recognition-ravdess-data\\\\**\\\\*.wav')):\n",
    "        file_name = os.path.basename(file)\n",
    "        emotion=emotions[file_name.split(\"-\")[2]]\n",
    "        signal , rate = librosa.load(file, sr=16000)\n",
    "        mask = envelope(signal,rate, 0.0005)\n",
    "        if emotion not in observed_emotions:\n",
    "            continue\n",
    "        if emotion == 'angry':\n",
    "            wavfile.write(filename= r'F:\\VS Code\\Minor1_midsem\\custom dataset\\angry\\\\'+str(file_name), rate=rate,data=signal[mask])\n",
    "        if emotion == 'sad':\n",
    "            wavfile.write(filename= r'F:\\VS Code\\Minor1_midsem\\custom dataset\\sad\\\\'+str(file_name), rate=rate,data=signal[mask])\n",
    "        if emotion == 'happy':\n",
    "            wavfile.write(filename= r'F:\\VS Code\\Minor1_midsem\\custom dataset\\happy\\\\'+str(file_name), rate=rate,data=signal[mask])\n",
    "        if emotion == 'fear':\n",
    "            wavfile.write(filename= r'F:\\VS Code\\Minor1_midsem\\custom dataset\\fear\\\\'+str(file_name), rate=rate,data=signal[mask])\n",
    "        if emotion == 'neutral':\n",
    "            wavfile.write(filename= r'F:\\VS Code\\Minor1_midsem\\custom dataset\\neutral\\\\'+str(file_name), rate=rate,data=signal[mask])\n",
    "        if emotion == 'disgust':\n",
    "            wavfile.write(filename= r'F:\\VS Code\\Minor1_midsem\\custom dataset\\disgust\\\\'+str(file_name), rate=rate,data=signal[mask])"
   ]
  },
  {
   "cell_type": "code",
   "execution_count": 16,
   "metadata": {},
   "outputs": [],
   "source": [
    "#Load the data and extract features for each sound file\n",
    "def load_data_from_tess():\n",
    "\n",
    "    for file in tqdm(glob.glob(r'F:\\VS Code\\Minor1_midsem\\TESS Toronto emotional speech set data\\\\**\\\\*.wav')):\n",
    "        file_name = os.path.basename(file)\n",
    "        emo=file_name.split(\"_\")[2]\n",
    "        emotion=emo.split(\".\")[0]\n",
    "        signal , rate = librosa.load(file, sr=16000)\n",
    "        mask = envelope(signal,rate, 0.0005)\n",
    "        if emotion not in observed_emotions:\n",
    "            continue\n",
    "        if emotion == 'angry':\n",
    "            wavfile.write(filename= r'F:\\VS Code\\Minor1_midsem\\custom dataset\\angry\\\\'+str(file_name), rate=rate,data=signal[mask])\n",
    "        if emotion == 'sad':\n",
    "            wavfile.write(filename= r'F:\\VS Code\\Minor1_midsem\\custom dataset\\sad\\\\'+str(file_name), rate=rate,data=signal[mask])\n",
    "        if emotion == 'happy':\n",
    "            wavfile.write(filename= r'F:\\VS Code\\Minor1_midsem\\custom dataset\\happy\\\\'+str(file_name), rate=rate,data=signal[mask])\n",
    "        if emotion == 'fear':\n",
    "            wavfile.write(filename= r'F:\\VS Code\\Minor1_midsem\\custom dataset\\fear\\\\'+str(file_name), rate=rate,data=signal[mask])\n",
    "        if emotion == 'neutral':\n",
    "            wavfile.write(filename= r'F:\\VS Code\\Minor1_midsem\\custom dataset\\neutral\\\\'+str(file_name), rate=rate,data=signal[mask])\n",
    "        if emotion == 'disgust':\n",
    "            wavfile.write(filename= r'F:\\VS Code\\Minor1_midsem\\custom dataset\\disgust\\\\'+str(file_name), rate=rate,data=signal[mask])"
   ]
  },
  {
   "cell_type": "code",
   "execution_count": 19,
   "metadata": {},
   "outputs": [],
   "source": [
    "#Load the data and extract features for each sound file\n",
    "def load_data_from_crema():\n",
    "\n",
    "    for file in tqdm(glob.glob(r'F:\\VS Code\\Minor1_midsem\\Crema\\\\*.wav')):\n",
    "        file_name = os.path.basename(file)\n",
    "        emo=file_name.split(\"_\")[2]\n",
    "        emotion=emo.split(\".\")[0]  \n",
    "        signal , rate = librosa.load(file, sr=16000)\n",
    "        mask = envelope(signal,rate, 0.0005)\n",
    "        if emotion not in observed_emotions2:\n",
    "            continue\n",
    "        if emotion == 'ANG':\n",
    "            wavfile.write(filename= r'F:\\VS Code\\Minor1_midsem\\custom dataset\\angry\\\\'+str(file_name), rate=rate,data=signal[mask])\n",
    "        if emotion == 'SAD':\n",
    "            wavfile.write(filename= r'F:\\VS Code\\Minor1_midsem\\custom dataset\\sad\\\\'+str(file_name), rate=rate,data=signal[mask])\n",
    "        if emotion == 'HAP':\n",
    "            wavfile.write(filename= r'F:\\VS Code\\Minor1_midsem\\custom dataset\\happy\\\\'+str(file_name), rate=rate,data=signal[mask])\n",
    "        if emotion == 'FEA':\n",
    "            wavfile.write(filename= r'F:\\VS Code\\Minor1_midsem\\custom dataset\\fear\\\\'+str(file_name), rate=rate,data=signal[mask])\n",
    "        if emotion == 'NEU':\n",
    "            wavfile.write(filename= r'F:\\VS Code\\Minor1_midsem\\custom dataset\\neutral\\\\'+str(file_name), rate=rate,data=signal[mask])\n",
    "        if emotion == 'DIS':\n",
    "            wavfile.write(filename= r'F:\\VS Code\\Minor1_midsem\\custom dataset\\disgust\\\\'+str(file_name), rate=rate,data=signal[mask])"
   ]
  },
  {
   "cell_type": "code",
   "execution_count": 20,
   "metadata": {},
   "outputs": [
    {
     "name": "stderr",
     "output_type": "stream",
     "text": [
      "100%|██████████| 1439/1439 [00:58<00:00, 24.52it/s]\n",
      "100%|██████████| 2800/2800 [03:15<00:00, 14.34it/s]\n",
      "100%|██████████| 7442/7442 [02:06<00:00, 58.67it/s]\n"
     ]
    }
   ],
   "source": [
    "load_data_from_ravdess()\n",
    "load_data_from_tess()\n",
    "load_data_from_crema()"
   ]
  },
  {
   "cell_type": "code",
   "execution_count": 4,
   "metadata": {},
   "outputs": [],
   "source": [
    "emotions_savee={\n",
    "  'n':'neutral',\n",
    "  'h':'happy',\n",
    "  'sa':'sad',\n",
    "  'a':'angry',\n",
    "  'd':'disgust',\n",
    "  'su':'surprised',\n",
    "  'f':'fear'\n",
    "}"
   ]
  },
  {
   "cell_type": "code",
   "execution_count": 5,
   "metadata": {},
   "outputs": [],
   "source": [
    "#Load the data and extract features for each sound file\n",
    "def load_data_from_SAVEE():\n",
    "\n",
    "    for file in tqdm(glob.glob(r'F:\\VS Code\\Minor1_midsem\\clean_savee\\*.wav')):\n",
    "        file_name = os.path.basename(file)\n",
    "        emo=file_name.split(\"_\")[1][:2]\n",
    "        if emo == 'su':\n",
    "            key = 'su'\n",
    "        elif emo == 'sa':\n",
    "            key = 'sa'\n",
    "        else:\n",
    "            key = emo[0]\n",
    "        emotion=emotions_savee[key]\n",
    "        signal , rate = librosa.load(file, sr=16000)\n",
    "        mask = envelope(signal,rate, 0.0005)\n",
    "        if emotion not in observed_emotions:\n",
    "            continue\n",
    "        if emotion == 'angry':\n",
    "            wavfile.write(filename= r'F:\\VS Code\\Minor1_midsem\\custom dataset_final\\angry\\\\'+str(file_name), rate=rate,data=signal[mask])\n",
    "        if emotion == 'sad':\n",
    "            wavfile.write(filename= r'F:\\VS Code\\Minor1_midsem\\custom dataset_final\\sad\\\\'+str(file_name), rate=rate,data=signal[mask])\n",
    "        if emotion == 'happy':\n",
    "            wavfile.write(filename= r'F:\\VS Code\\Minor1_midsem\\custom dataset_final\\happy\\\\'+str(file_name), rate=rate,data=signal[mask])\n",
    "        if emotion == 'fear':\n",
    "            wavfile.write(filename= r'F:\\VS Code\\Minor1_midsem\\custom dataset_final\\fear\\\\'+str(file_name), rate=rate,data=signal[mask])\n",
    "        if emotion == 'neutral':\n",
    "            wavfile.write(filename= r'F:\\VS Code\\Minor1_midsem\\custom dataset_final\\neutral\\\\'+str(file_name), rate=rate,data=signal[mask])\n",
    "        if emotion == 'disgust':\n",
    "            wavfile.write(filename= r'F:\\VS Code\\Minor1_midsem\\custom dataset_final\\disgust\\\\'+str(file_name), rate=rate,data=signal[mask])"
   ]
  },
  {
   "cell_type": "code",
   "execution_count": 6,
   "metadata": {},
   "outputs": [
    {
     "name": "stderr",
     "output_type": "stream",
     "text": [
      "100%|██████████| 480/480 [00:23<00:00, 20.06it/s]\n"
     ]
    }
   ],
   "source": [
    "load_data_from_SAVEE()"
   ]
  },
  {
   "cell_type": "code",
   "execution_count": 7,
   "metadata": {},
   "outputs": [],
   "source": [
    "emotions_ASVP_ESD={\n",
    "  '01':'boredom',\n",
    "  '02':'neutral',\n",
    "  '03':'happy',\n",
    "  '04':'sad',\n",
    "  '05':'angry',\n",
    "  '06':'fear',\n",
    "  '07':'disgust',\n",
    "  '08':'surprised',\n",
    "  '09': 'excited',\n",
    "  '10': 'pleasure',\n",
    "  '11': 'pain',\n",
    "  '12': 'disappointment',\n",
    "  '13': 'breath'\n",
    "}"
   ]
  },
  {
   "cell_type": "code",
   "execution_count": 8,
   "metadata": {},
   "outputs": [],
   "source": [
    "#Load the data and extract features for each sound file\n",
    "def load_data_from_ASVP_ESD():\n",
    "\n",
    "    for file in tqdm(glob.glob(r'F:\\VS Code\\Minor1_midsem\\ASVP-ESD\\\\**\\\\*.wav')):\n",
    "        file_name = os.path.basename(file)\n",
    "        emo=file_name.split(\"-\")[2]\n",
    "        emotion=emotions_ASVP_ESD[emo]\n",
    "        signal , rate = librosa.load(file, sr=16000)\n",
    "        mask = envelope(signal,rate, 0.0005)\n",
    "        if emotion not in observed_emotions:\n",
    "            continue\n",
    "        if emotion == 'angry':\n",
    "            wavfile.write(filename= r'F:\\VS Code\\Minor1_midsem\\custom dataset_final\\angry\\\\'+str(file_name), rate=rate,data=signal[mask])\n",
    "        if emotion == 'sad':\n",
    "            wavfile.write(filename= r'F:\\VS Code\\Minor1_midsem\\custom dataset_final\\sad\\\\'+str(file_name), rate=rate,data=signal[mask])\n",
    "        if emotion == 'happy':\n",
    "            wavfile.write(filename= r'F:\\VS Code\\Minor1_midsem\\custom dataset_final\\happy\\\\'+str(file_name), rate=rate,data=signal[mask])\n",
    "        if emotion == 'fear':\n",
    "            wavfile.write(filename= r'F:\\VS Code\\Minor1_midsem\\custom dataset_final\\fear\\\\'+str(file_name), rate=rate,data=signal[mask])\n",
    "        if emotion == 'neutral':\n",
    "            wavfile.write(filename= r'F:\\VS Code\\Minor1_midsem\\custom dataset_final\\neutral\\\\'+str(file_name), rate=rate,data=signal[mask])\n",
    "        if emotion == 'disgust':\n",
    "            wavfile.write(filename= r'F:\\VS Code\\Minor1_midsem\\custom dataset_final\\disgust\\\\'+str(file_name), rate=rate,data=signal[mask])"
   ]
  },
  {
   "cell_type": "code",
   "execution_count": 9,
   "metadata": {},
   "outputs": [
    {
     "name": "stderr",
     "output_type": "stream",
     "text": [
      "100%|██████████| 12454/12454 [07:56<00:00, 26.16it/s] \n"
     ]
    }
   ],
   "source": [
    "load_data_from_ASVP_ESD()"
   ]
  },
  {
   "cell_type": "code",
   "execution_count": 10,
   "metadata": {},
   "outputs": [
    {
     "name": "stdout",
     "output_type": "stream",
     "text": [
      "19487\n"
     ]
    }
   ],
   "source": [
    "import os\n",
    "\n",
    "# folder path\n",
    "dir_path = ['F:/VS Code/Minor1_midsem/custom dataset_final/angry','F:/VS Code/Minor1_midsem/custom dataset_final/disgust','F:/VS Code/Minor1_midsem/custom dataset_final/fear','F:/VS Code/Minor1_midsem/custom dataset_final/happy','F:/VS Code/Minor1_midsem/custom dataset_final/neutral','F:/VS Code/Minor1_midsem/custom dataset_final/sad']\n",
    "count = 0\n",
    "# Iterate directory\n",
    "for i in dir_path:\n",
    "    for path in os.listdir(i):\n",
    "        # check if current path is a file\n",
    "        if os.path.isfile(os.path.join(i, path)):\n",
    "            count += 1\n",
    "\n",
    "print(count)"
   ]
  },
  {
   "cell_type": "code",
   "execution_count": null,
   "metadata": {},
   "outputs": [],
   "source": []
  }
 ],
 "metadata": {
  "kernelspec": {
   "display_name": "Python 3.9.12 ('base')",
   "language": "python",
   "name": "python3"
  },
  "language_info": {
   "codemirror_mode": {
    "name": "ipython",
    "version": 3
   },
   "file_extension": ".py",
   "mimetype": "text/x-python",
   "name": "python",
   "nbconvert_exporter": "python",
   "pygments_lexer": "ipython3",
   "version": "3.9.12"
  },
  "orig_nbformat": 4,
  "vscode": {
   "interpreter": {
    "hash": "d332573bd6b597e759624c241b6d927c486e6885b295733baefb4ea80ba7e373"
   }
  }
 },
 "nbformat": 4,
 "nbformat_minor": 2
}
